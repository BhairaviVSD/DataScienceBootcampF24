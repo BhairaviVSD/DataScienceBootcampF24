{
 "cells": [
  {
   "cell_type": "markdown",
   "metadata": {},
   "source": [
    "# WEEK 1 \n",
    "## TAKE HOME PROBLEMS\n",
    "\n",
    "\n"
   ]
  },
  {
   "cell_type": "markdown",
   "metadata": {},
   "source": [
    "Numpy Questions"
   ]
  },
  {
   "cell_type": "markdown",
   "metadata": {},
   "source": [
    "1. Define two custom numpy arrays, say A and B. Generate two new numpy\n",
    "arrays by stacking A and B vertically and horizontally."
   ]
  },
  {
   "cell_type": "code",
   "execution_count": 2,
   "metadata": {},
   "outputs": [],
   "source": [
    "import numpy as np"
   ]
  },
  {
   "cell_type": "code",
   "execution_count": 79,
   "metadata": {},
   "outputs": [],
   "source": [
    "A = np.random.random((2,3))\n",
    "B = np.random.random((2,3))"
   ]
  },
  {
   "cell_type": "code",
   "execution_count": 80,
   "metadata": {},
   "outputs": [
    {
     "data": {
      "text/plain": [
       "array([[0.18534435, 0.92314116, 0.66256173],\n",
       "       [0.34583653, 0.66264526, 0.50618763]])"
      ]
     },
     "execution_count": 80,
     "metadata": {},
     "output_type": "execute_result"
    }
   ],
   "source": [
    "A"
   ]
  },
  {
   "cell_type": "code",
   "execution_count": 81,
   "metadata": {},
   "outputs": [
    {
     "data": {
      "text/plain": [
       "array([[0.92827896, 0.35602991, 0.05468583],\n",
       "       [0.26342813, 0.43891719, 0.53321642]])"
      ]
     },
     "execution_count": 81,
     "metadata": {},
     "output_type": "execute_result"
    }
   ],
   "source": [
    "B"
   ]
  },
  {
   "cell_type": "code",
   "execution_count": 83,
   "metadata": {},
   "outputs": [],
   "source": [
    "V = np.vstack((A,B))"
   ]
  },
  {
   "cell_type": "code",
   "execution_count": 84,
   "metadata": {},
   "outputs": [
    {
     "data": {
      "text/plain": [
       "array([[0.18534435, 0.92314116, 0.66256173],\n",
       "       [0.34583653, 0.66264526, 0.50618763],\n",
       "       [0.92827896, 0.35602991, 0.05468583],\n",
       "       [0.26342813, 0.43891719, 0.53321642]])"
      ]
     },
     "execution_count": 84,
     "metadata": {},
     "output_type": "execute_result"
    }
   ],
   "source": [
    "V"
   ]
  },
  {
   "cell_type": "code",
   "execution_count": 85,
   "metadata": {},
   "outputs": [],
   "source": [
    "H = np.hstack((A,B))"
   ]
  },
  {
   "cell_type": "code",
   "execution_count": 86,
   "metadata": {},
   "outputs": [
    {
     "data": {
      "text/plain": [
       "array([[0.18534435, 0.92314116, 0.66256173, 0.92827896, 0.35602991,\n",
       "        0.05468583],\n",
       "       [0.34583653, 0.66264526, 0.50618763, 0.26342813, 0.43891719,\n",
       "        0.53321642]])"
      ]
     },
     "execution_count": 86,
     "metadata": {},
     "output_type": "execute_result"
    }
   ],
   "source": [
    "H"
   ]
  },
  {
   "cell_type": "markdown",
   "metadata": {},
   "source": [
    "2. Find common elements between A and B. [Hint : Intersection of two sets]"
   ]
  },
  {
   "cell_type": "code",
   "execution_count": 87,
   "metadata": {},
   "outputs": [],
   "source": [
    "A = np.array([[0,1,2],[2,3,4],[4,5,6]])\n",
    "B = np.array([[5,6,7],[6,7,8],[7,8,9]])"
   ]
  },
  {
   "cell_type": "code",
   "execution_count": 88,
   "metadata": {},
   "outputs": [
    {
     "data": {
      "text/plain": [
       "array([5, 6])"
      ]
     },
     "execution_count": 88,
     "metadata": {},
     "output_type": "execute_result"
    }
   ],
   "source": [
    "np.intersect1d(A,B)"
   ]
  },
  {
   "cell_type": "markdown",
   "metadata": {},
   "source": [
    "3. Extract all numbers from A which are within a specific range. eg\n",
    "between 5 and 10. [Hint: np.where() might be useful or boolean masks]"
   ]
  },
  {
   "cell_type": "code",
   "execution_count": 99,
   "metadata": {},
   "outputs": [],
   "source": [
    "A = np.random.randint(1, 10, (2, 3, 4))"
   ]
  },
  {
   "cell_type": "code",
   "execution_count": 100,
   "metadata": {},
   "outputs": [
    {
     "data": {
      "text/plain": [
       "array([[[5, 9, 7, 9],\n",
       "        [6, 6, 9, 5],\n",
       "        [3, 7, 5, 9]],\n",
       "\n",
       "       [[2, 6, 1, 6],\n",
       "        [9, 1, 7, 3],\n",
       "        [9, 2, 3, 4]]])"
      ]
     },
     "execution_count": 100,
     "metadata": {},
     "output_type": "execute_result"
    }
   ],
   "source": [
    "A"
   ]
  },
  {
   "cell_type": "code",
   "execution_count": 101,
   "metadata": {},
   "outputs": [
    {
     "data": {
      "text/plain": [
       "array([9, 7, 9, 6, 6, 9, 7, 9, 6, 6, 9, 7, 9])"
      ]
     },
     "execution_count": 101,
     "metadata": {},
     "output_type": "execute_result"
    }
   ],
   "source": [
    "A[np.where((A>5) & (A<10))]"
   ]
  },
  {
   "cell_type": "markdown",
   "metadata": {},
   "source": [
    "4. Filter the rows of iris_2d that has petallength (3rd column) > 1.5 and sepallength (1st column) < 5.0\n",
    "```\n",
    "url = 'https://archive.ics.uci.edu/ml/machine-learning-databases/iris/iris.data'\n",
    "iris_2d = np.genfromtxt(url, delimiter=',', dtype='float', usecols=[0,1,2,3])\n",
    "```"
   ]
  },
  {
   "cell_type": "code",
   "execution_count": 119,
   "metadata": {},
   "outputs": [],
   "source": [
    "url = 'https://archive.ics.uci.edu/ml/machine-learning-databases/iris/iris.data'\n",
    "iris = np.genfromtxt(url, delimiter=',', dtype='object')\n",
    "names = ('sepallength', 'sepalwidth', 'petallength', 'petalwidth', 'species')"
   ]
  },
  {
   "cell_type": "code",
   "execution_count": 136,
   "metadata": {},
   "outputs": [
    {
     "data": {
      "text/plain": [
       "array([[b'4.8', b'3.4', b'1.6', b'0.2', b'Iris-setosa'],\n",
       "       [b'4.8', b'3.4', b'1.9', b'0.2', b'Iris-setosa'],\n",
       "       [b'4.7', b'3.2', b'1.6', b'0.2', b'Iris-setosa'],\n",
       "       [b'4.8', b'3.1', b'1.6', b'0.2', b'Iris-setosa'],\n",
       "       [b'4.9', b'2.4', b'3.3', b'1.0', b'Iris-versicolor'],\n",
       "       [b'4.9', b'2.5', b'4.5', b'1.7', b'Iris-virginica']], dtype=object)"
      ]
     },
     "execution_count": 136,
     "metadata": {},
     "output_type": "execute_result"
    }
   ],
   "source": [
    "iris[np.where((iris[:,2].astype('float') > 1.5) & (iris[:,0].astype('float') < 5.0))]"
   ]
  },
  {
   "cell_type": "markdown",
   "metadata": {},
   "source": [
    "Find the mean of a numeric column grouped by a categorical column in a 2D numpy array\n",
    "\n",
    "```\n",
    "url = 'https://archive.ics.uci.edu/ml/machine-learning-databases/iris/iris.data'\n",
    "iris = np.genfromtxt(url, delimiter=',', dtype='object')\n",
    "names = ('sepallength', 'sepalwidth', 'petallength', 'petalwidth', 'species')\n",
    "\n",
    "\n",
    "numeric_column = iris[:, 1].astype('float')  # sepalwidth\n",
    "grouping_column = iris[:, 4]  # species\n",
    "\n",
    "output = []\n",
    "\"\"\"Your code goes here\"\"\"\n",
    "\n",
    "output\n",
    "```\n"
   ]
  },
  {
   "cell_type": "code",
   "execution_count": 141,
   "metadata": {},
   "outputs": [],
   "source": [
    "url = 'https://archive.ics.uci.edu/ml/machine-learning-databases/iris/iris.data'\n",
    "iris = np.genfromtxt(url, delimiter=',', dtype='object')\n",
    "names = ('sepallength', 'sepalwidth', 'petallength', 'petalwidth', 'species')\n",
    "\n",
    "\n",
    "numeric_column = iris[:, 1].astype('float')  # sepalwidth\n",
    "grouping_column = iris[:, 4]  # species\n"
   ]
  },
  {
   "cell_type": "code",
   "execution_count": 142,
   "metadata": {},
   "outputs": [],
   "source": [
    "unique_species = np.unique(grouping_column)\n",
    "\n",
    "output = []\n",
    "for species in unique_species:\n",
    "    mean_value = np.mean(numeric_column[grouping_column == species])\n",
    "    output.append((species.decode('utf-8'), mean_value))  \n"
   ]
  },
  {
   "cell_type": "code",
   "execution_count": 143,
   "metadata": {},
   "outputs": [
    {
     "data": {
      "text/plain": [
       "[('Iris-setosa', 3.418),\n",
       " ('Iris-versicolor', 2.7700000000000005),\n",
       " ('Iris-virginica', 2.974)]"
      ]
     },
     "execution_count": 143,
     "metadata": {},
     "output_type": "execute_result"
    }
   ],
   "source": [
    "output"
   ]
  },
  {
   "cell_type": "markdown",
   "metadata": {},
   "source": [
    "Pandas Questions"
   ]
  },
  {
   "cell_type": "markdown",
   "metadata": {},
   "source": [
    "5. From df filter the 'Manufacturer', 'Model' and 'Type' for every\n",
    "20th row starting from 1st (row 0).\n",
    "```\n",
    "df = pd.read_csv('https://raw.githubusercontent.com/selva86/datasets/master/Cars93_miss.csv')\n",
    "```\n"
   ]
  },
  {
   "cell_type": "code",
   "execution_count": 144,
   "metadata": {},
   "outputs": [],
   "source": [
    "import pandas as pd\n"
   ]
  },
  {
   "cell_type": "markdown",
   "metadata": {},
   "source": [
    "6. Replace missing values in Min.Price and Max.Price columns with\n",
    "their respective mean.\n",
    "```\n",
    "df = pd.read_csv('https://raw.githubusercontent.com/selva86/datasets/master/Cars93_miss.csv')\n",
    "```\n"
   ]
  },
  {
   "cell_type": "markdown",
   "metadata": {},
   "source": [
    "7. How to get the rows of a dataframe with row sum > 100?\n",
    "```\n",
    "df = pd.DataFrame(np.random.randint(10, 40, 60).reshape(-1, 4))"
   ]
  }
 ],
 "metadata": {
  "kernelspec": {
   "display_name": "Python 3",
   "language": "python",
   "name": "python3"
  },
  "language_info": {
   "codemirror_mode": {
    "name": "ipython",
    "version": 3
   },
   "file_extension": ".py",
   "mimetype": "text/x-python",
   "name": "python",
   "nbconvert_exporter": "python",
   "pygments_lexer": "ipython3",
   "version": "3.11.6"
  }
 },
 "nbformat": 4,
 "nbformat_minor": 2
}
